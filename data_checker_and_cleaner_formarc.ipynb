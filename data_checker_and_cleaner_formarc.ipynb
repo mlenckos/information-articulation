{
 "cells": [
  {
   "cell_type": "code",
   "execution_count": 1,
   "metadata": {},
   "outputs": [
    {
     "name": "stdout",
     "output_type": "stream",
     "text": [
      "File paths loaded:\n",
      "[\"C:\\\\Users\\\\Michael's  Laptop\\\\Documents\\\\XSELL\\\\ATT\\\\QABOT\\\\unsent to DS (9.17)\\\\buca_7.30 - AA_EL-DONE.csv\", \"C:\\\\Users\\\\Michael's  Laptop\\\\Documents\\\\XSELL\\\\ATT\\\\QABOT\\\\unsent to DS (9.17)\\\\buca_7.31 - KB_NN - DONE.csv\", \"C:\\\\Users\\\\Michael's  Laptop\\\\Documents\\\\XSELL\\\\ATT\\\\QABOT\\\\unsent to DS (9.17)\\\\buca_8.10-KO-DONE.csv\", \"C:\\\\Users\\\\Michael's  Laptop\\\\Documents\\\\XSELL\\\\ATT\\\\QABOT\\\\unsent to DS (9.17)\\\\buca_8.12 el - DONE.csv\", \"C:\\\\Users\\\\Michael's  Laptop\\\\Documents\\\\XSELL\\\\ATT\\\\QABOT\\\\unsent to DS (9.17)\\\\buca_8.13-KB-done.csv\", \"C:\\\\Users\\\\Michael's  Laptop\\\\Documents\\\\XSELL\\\\ATT\\\\QABOT\\\\unsent to DS (9.17)\\\\buca_8.15-KO - DONE.csv\", \"C:\\\\Users\\\\Michael's  Laptop\\\\Documents\\\\XSELL\\\\ATT\\\\QABOT\\\\unsent to DS (9.17)\\\\buca_8.16-BA-DONE.csv\", \"C:\\\\Users\\\\Michael's  Laptop\\\\Documents\\\\XSELL\\\\ATT\\\\QABOT\\\\unsent to DS (9.17)\\\\buca_8.19 el done.csv\", \"C:\\\\Users\\\\Michael's  Laptop\\\\Documents\\\\XSELL\\\\ATT\\\\QABOT\\\\unsent to DS (9.17)\\\\buca_8.9-FB-DONE.csv\"]\n",
      "\n",
      "Checking total chats and annotations...\n",
      "Total Chats: 4226\n"
     ]
    },
    {
     "name": "stderr",
     "output_type": "stream",
     "text": [
      "c:\\python27\\lib\\site-packages\\ipykernel_launcher.py:9: FutureWarning: Sorting because non-concatenation axis is not aligned. A future version\n",
      "of pandas will change to not sort by default.\n",
      "\n",
      "To accept the future behavior, pass 'sort=False'.\n",
      "\n",
      "To retain the current behavior and silence the warning, pass 'sort=True'.\n",
      "\n",
      "  if __name__ == '__main__':\n"
     ]
    },
    {
     "ename": "AttributeError",
     "evalue": "'DataFrame' object has no attribute 'Topic'",
     "output_type": "error",
     "traceback": [
      "\u001b[1;31m---------------------------------------------------------------------------\u001b[0m",
      "\u001b[1;31mAttributeError\u001b[0m                            Traceback (most recent call last)",
      "\u001b[1;32m<ipython-input-1-16e118c94fdf>\u001b[0m in \u001b[0;36m<module>\u001b[1;34m()\u001b[0m\n\u001b[0;32m     23\u001b[0m \u001b[1;31m#Total number of annotations\u001b[0m\u001b[1;33m\u001b[0m\u001b[1;33m\u001b[0m\u001b[0m\n\u001b[0;32m     24\u001b[0m \u001b[1;31m#(Should match total number of chats, is okay if off by 1 or 2)\u001b[0m\u001b[1;33m\u001b[0m\u001b[1;33m\u001b[0m\u001b[0m\n\u001b[1;32m---> 25\u001b[1;33m \u001b[1;32mprint\u001b[0m\u001b[1;33m(\u001b[0m\u001b[1;34m\"Total Annotations: \"\u001b[0m\u001b[1;33m+\u001b[0m \u001b[0mstr\u001b[0m\u001b[1;33m(\u001b[0m\u001b[0mdf\u001b[0m\u001b[1;33m.\u001b[0m\u001b[0mTopic\u001b[0m\u001b[1;33m.\u001b[0m\u001b[0mcount\u001b[0m\u001b[1;33m(\u001b[0m\u001b[1;33m)\u001b[0m\u001b[1;33m)\u001b[0m\u001b[1;33m)\u001b[0m\u001b[1;33m\u001b[0m\u001b[0m\n\u001b[0m\u001b[0;32m     26\u001b[0m \u001b[1;33m\u001b[0m\u001b[0m\n\u001b[0;32m     27\u001b[0m \u001b[1;32mprint\u001b[0m\u001b[1;33m(\u001b[0m\u001b[1;34m\"\"\u001b[0m\u001b[1;33m)\u001b[0m\u001b[1;33m\u001b[0m\u001b[0m\n",
      "\u001b[1;32mc:\\python27\\lib\\site-packages\\pandas\\core\\generic.pyc\u001b[0m in \u001b[0;36m__getattr__\u001b[1;34m(self, name)\u001b[0m\n\u001b[0;32m   5065\u001b[0m             \u001b[1;32mif\u001b[0m \u001b[0mself\u001b[0m\u001b[1;33m.\u001b[0m\u001b[0m_info_axis\u001b[0m\u001b[1;33m.\u001b[0m\u001b[0m_can_hold_identifiers_and_holds_name\u001b[0m\u001b[1;33m(\u001b[0m\u001b[0mname\u001b[0m\u001b[1;33m)\u001b[0m\u001b[1;33m:\u001b[0m\u001b[1;33m\u001b[0m\u001b[0m\n\u001b[0;32m   5066\u001b[0m                 \u001b[1;32mreturn\u001b[0m \u001b[0mself\u001b[0m\u001b[1;33m[\u001b[0m\u001b[0mname\u001b[0m\u001b[1;33m]\u001b[0m\u001b[1;33m\u001b[0m\u001b[0m\n\u001b[1;32m-> 5067\u001b[1;33m             \u001b[1;32mreturn\u001b[0m \u001b[0mobject\u001b[0m\u001b[1;33m.\u001b[0m\u001b[0m__getattribute__\u001b[0m\u001b[1;33m(\u001b[0m\u001b[0mself\u001b[0m\u001b[1;33m,\u001b[0m \u001b[0mname\u001b[0m\u001b[1;33m)\u001b[0m\u001b[1;33m\u001b[0m\u001b[0m\n\u001b[0m\u001b[0;32m   5068\u001b[0m \u001b[1;33m\u001b[0m\u001b[0m\n\u001b[0;32m   5069\u001b[0m     \u001b[1;32mdef\u001b[0m \u001b[0m__setattr__\u001b[0m\u001b[1;33m(\u001b[0m\u001b[0mself\u001b[0m\u001b[1;33m,\u001b[0m \u001b[0mname\u001b[0m\u001b[1;33m,\u001b[0m \u001b[0mvalue\u001b[0m\u001b[1;33m)\u001b[0m\u001b[1;33m:\u001b[0m\u001b[1;33m\u001b[0m\u001b[0m\n",
      "\u001b[1;31mAttributeError\u001b[0m: 'DataFrame' object has no attribute 'Topic'"
     ]
    }
   ],
   "source": [
    "import pandas as pd\n",
    "import numpy as np\n",
    "from glob import glob\n",
    "\n",
    "\n",
    "##     LOAD FILES     ##\n",
    "# Input Folder (the folder where the annotations are):\n",
    "file_paths = glob(r\"C:\\Users\\Michael's  Laptop\\Documents\\XSELL\\ATT\\QABOT\\unsent to DS (9.17)/*.csv\")\n",
    "df = pd.concat([pd.read_csv(file_path,error_bad_lines=False) for file_path in file_paths])\n",
    "print \"File paths loaded:\"\n",
    "print file_paths\n",
    "# Output directory (Where you want the split files to be):\n",
    "directory = r\"C:\\Users\\Michael's  Laptop\\Documents\\XSELL\\Done (sent to DS 6.5)/\"\n",
    "\n",
    "\n",
    "##     CHECK FILES     ##\n",
    "#total number of chats in the input folder \n",
    "#(If number is off from what you epexect )\n",
    "print(\"\")\n",
    "print(\"Checking total chats and annotations...\")\n",
    "print('Total Chats: ' + str(df.engagement_id.nunique()))\n",
    "\n",
    "#Total number of annotations\n",
    "#(Should match total number of chats, is okay if off by 1 or 2)\n",
    "print(\"Total Annotations: \"+ str(df.Topic.count()))\n",
    "\n",
    "print(\"\")\n",
    "continue_q = raw_input(\"Do you want to check for duplicates and split files? (y/n): \")\n",
    "if continue_q == 'n':\n",
    "    exit()\n",
    "\n",
    "\n"
   ]
  },
  {
   "cell_type": "code",
   "execution_count": null,
   "metadata": {},
   "outputs": [],
   "source": [
    "##     CLEAN DATA FOR ANNOTATION AND SPLIT     ##\n",
    "\n",
    "#This function is designed to remove any duplicates in the given dataframe\n",
    "#(Thomas from data science wrote this if you have any questions)\n",
    "print(\"\")\n",
    "print(\"Removing Duplicates...\")\n",
    "def remove_dupes(df, exclude_ids=None):\n",
    "    \n",
    "    unchecked = set(df.engagement_id.unique()) \n",
    "    if exclude_ids:\n",
    "        unchecked = unchecked - set(exclude_ids)\n",
    "    print(\"Number of unique chat ID's: \" + str(len(unchecked)))\n",
    "    current_id = ''\n",
    "    rows = []\n",
    "    for row in df.itertuples():\n",
    "        if row.engagement_id != current_id:\n",
    "            # we should be done with current_id\n",
    "            if current_id in unchecked:\n",
    "                unchecked.remove(current_id)\n",
    "            # check if this engagement id hasn't been seen yet\n",
    "            if row.engagement_id in unchecked:\n",
    "                current_id = row.engagement_id\n",
    "            else:\n",
    "                current_id = ''\n",
    "        if row.engagement_id == current_id:\n",
    "            rows.append(row)\n",
    "\n",
    "    print('Number of duplicate chats (should be 0):'+ str(len(unchecked)))\n",
    "    return pd.DataFrame(rows)\n",
    "# create new dataframe running remove duplication function over old dataframe\n",
    "df2 = remove_dupes(df)\n",
    "df = df2\n",
    "\n",
    "#The agent_id and chat_id should not be a problem for verizon but might be for at&T. Helps solve a problem where \n",
    "# agent id's aren't on every line of a chat\n",
    "agent_id = 'agent_id'\n",
    "chat_id = 'engagement_id'\n",
    "# fill empty values in agent id column based on non-empty values in the same chat\n",
    "df[agent_id] = df.groupby([chat_id], sort=False)[agent_id].apply(lambda x: x.ffill().bfill())\n",
    "\n",
    "\n",
    "## SPLIT THE CHATS INTO EQUAL CHUNKS     ##\n",
    "#The below variable is how many chats you want per file. Change to whatever you want, 500 is standard and should run on most computers\n",
    "print(\"\")\n",
    "print(\"Splitting chats into equal chunks...\")\n",
    "chats_per_file = 500\n",
    "chat_ids = list(df[chat_id].unique())\n",
    "chat_chunks = [chat_ids[i:i + chats_per_file] for i in range(0, len(chat_ids), chats_per_file)]\n",
    "print('Total Chat IDs: {}'.format(len(chat_ids)))\n",
    "print('Chunks: {}'.format(len(chat_chunks)))\n",
    "print('Length of individual chunks:')\n",
    "for  i in chat_chunks:\n",
    "    print  len(i)\n",
    "    \n",
    "##     DOWNLOAD FILES AS CSV'S TO OUTPUT FOLDER     ##\n",
    "print('')\n",
    "print(\"Saving files in the following locations...\")\n",
    "for i, chat_chunk in enumerate(chat_chunks):\n",
    "    filename = (directory + 'verizon_dataset_10_chunk_{}.csv'.format(i))\n",
    "    print(filename)\n",
    "    df[df[chat_id].isin(chat_chunk)].to_csv(filename, index=False)"
   ]
  },
  {
   "cell_type": "code",
   "execution_count": null,
   "metadata": {},
   "outputs": [],
   "source": []
  },
  {
   "cell_type": "code",
   "execution_count": null,
   "metadata": {},
   "outputs": [],
   "source": []
  }
 ],
 "metadata": {
  "kernelspec": {
   "display_name": "Python 2",
   "language": "python",
   "name": "python2"
  },
  "language_info": {
   "codemirror_mode": {
    "name": "ipython",
    "version": 2
   },
   "file_extension": ".py",
   "mimetype": "text/x-python",
   "name": "python",
   "nbconvert_exporter": "python",
   "pygments_lexer": "ipython2",
   "version": "2.7.16"
  }
 },
 "nbformat": 4,
 "nbformat_minor": 2
}
