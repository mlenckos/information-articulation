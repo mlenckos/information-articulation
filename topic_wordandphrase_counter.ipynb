{
 "cells": [
  {
   "cell_type": "code",
   "execution_count": 1,
   "metadata": {},
   "outputs": [],
   "source": [
    "import os\n",
    "import glob\n",
    "import pandas as pd\n",
    "import numpy as np\n",
    "import re\n",
    "from textblob import TextBlob\n",
    "from collections import OrderedDict"
   ]
  },
  {
   "cell_type": "code",
   "execution_count": 2,
   "metadata": {},
   "outputs": [
    {
     "name": "stderr",
     "output_type": "stream",
     "text": [
      "c:\\users\\michael's  laptop\\appdata\\local\\programs\\python\\python37-32\\lib\\site-packages\\IPython\\core\\interactiveshell.py:3020: DtypeWarning: Columns (2,3,4,6,7,18,21,22,23,24,25,28) have mixed types. Specify dtype option on import or set low_memory=False.\n",
      "  interactivity=interactivity, compiler=compiler, result=result)\n"
     ]
    }
   ],
   "source": [
    "data = pd.read_csv(r\"C:\\Users\\Michael's  Laptop\\Jupyter Workspace\\data.csv\")"
   ]
  },
  {
   "cell_type": "code",
   "execution_count": 3,
   "metadata": {},
   "outputs": [],
   "source": [
    "def topicWordCount(topic):\n",
    "    try:\n",
    "        messages = data.loc[data['Topic'] == topic, \"message\"]\n",
    "    except:\n",
    "        messages = data.loc[data['Topic'] == topic, \"message_text\"]\n",
    "    word_count = {}\n",
    "    for msg in messages:\n",
    "        tb = TextBlob(msg)\n",
    "        tbWordCount = tb.word_counts\n",
    "        for word in tbWordCount:\n",
    "            try:\n",
    "                word_count[word] = word_count[word]+tbWordCount[word]\n",
    "            except:\n",
    "                word_count[word] = tbWordCount[word]\n",
    "    word_count = OrderedDict(sorted(word_count.items(), key=lambda t: t[1],reverse=True))    \n",
    "    return word_count\n",
    "\n",
    "def topicPhraseCount(topic):\n",
    "    try:\n",
    "        messages = data.loc[data['Topic'] == topic, \"message\"]\n",
    "    except:\n",
    "        messages = data.loc[data['Topic'] == topic, \"message_text\"]\n",
    "    phrase_count = {}\n",
    "    for msg in messages:\n",
    "        tb = TextBlob(msg)\n",
    "        tbPhraseCount = tb.np_counts\n",
    "        for phrase in tbPhraseCount:\n",
    "            try:\n",
    "                phrase_count[phrase] = phrase_count[phrase]+tbPhraseCount[phrase]\n",
    "            except:\n",
    "                phrase_count[phrase] = tbPhraseCount[phrase]\n",
    "    phrase_count = OrderedDict(sorted(phrase_count.items(), key=lambda t: t[1],reverse=True))\n",
    "    return phrase_count\n",
    "\n",
    "def totalWordCount():\n",
    "    string = ''\n",
    "    try:\n",
    "        messages = data.loc[data['role'] == \"C\", \"message\"]\n",
    "    except:\n",
    "        messages = data.loc[data['role'] == \"C\", \"message_text\"]\n",
    "    for msg in messages:\n",
    "        string = string + str(msg)\n",
    "    tb = TextBlob(string)\n",
    "    return tb.word_counts\n",
    "def totalPhraseCount():\n",
    "    string = ''\n",
    "    try:\n",
    "        messages = data.loc[data['role'] == \"C\", \"message\"]\n",
    "    except:\n",
    "        messages = data.loc[data['role'] == \"C\", \"message_text\"]\n",
    "    for msg in messages:\n",
    "        string = string + str(msg)\n",
    "    tb = TextBlob(string)\n",
    "    return tb.np_counts\n",
    "    "
   ]
  },
  {
   "cell_type": "code",
   "execution_count": null,
   "metadata": {},
   "outputs": [],
   "source": [
    "totalPhraseCount()"
   ]
  },
  {
   "cell_type": "code",
   "execution_count": null,
   "metadata": {},
   "outputs": [],
   "source": []
  }
 ],
 "metadata": {
  "kernelspec": {
   "display_name": "Python 3",
   "language": "python",
   "name": "python3"
  },
  "language_info": {
   "codemirror_mode": {
    "name": "ipython",
    "version": 3
   },
   "file_extension": ".py",
   "mimetype": "text/x-python",
   "name": "python",
   "nbconvert_exporter": "python",
   "pygments_lexer": "ipython3",
   "version": "3.7.1"
  }
 },
 "nbformat": 4,
 "nbformat_minor": 2
}
